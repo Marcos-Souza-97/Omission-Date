{
 "cells": [
  {
   "cell_type": "code",
   "execution_count": null,
   "id": "331b99c5",
   "metadata": {},
   "outputs": [],
   "source": [
    "import pandas as pd\n",
    "from datetime import datetime, timedelta\n",
    "\n",
    "# Carregando a planilha do Excel\n",
    "planilha = pd.read_excel(' Caminho da planilha ')\n",
    "\n",
    "# Obtendo a coluna de datas\n",
    "coluna_datas = planilha['DATA PREVISTA']\n",
    "\n",
    "# Convertendo as strings em objetos datetime\n",
    "coluna_datas = pd.to_datetime(coluna_datas)\n",
    "\n",
    "# Preenchendo as células vazias com datas\n",
    "for i in range(1, len(coluna_datas)):\n",
    "    data_anterior = coluna_datas[i - 1]\n",
    "    data_atual = coluna_datas[i]\n",
    "    if pd.isnull(data_atual):\n",
    "        if data_anterior.month == 12 and data_anterior.day == 31:\n",
    "            break  # Sai do loop se já estiver no final do ano\n",
    "        nova_data = data_anterior + timedelta(days=3)\n",
    "        if nova_data.month != data_anterior.month:\n",
    "            nova_data = datetime(data_anterior.year, data_anterior.month, 1) + timedelta(days=1)\n",
    "        coluna_datas[i] = nova_data\n",
    "\n",
    "# Convertendo de volta para strings\n",
    "coluna_datas = coluna_datas.dt.strftime('%Y-%m-%d')\n",
    "\n",
    "# Atualizando a coluna de datas na planilha\n",
    "planilha['Data'] = coluna_datas\n",
    "\n",
    "# Salvando as alterações na planilha\n",
    "planilha.to_excel(' Caminho da planilha ', index=False)\n"
   ]
  }
 ],
 "metadata": {
  "kernelspec": {
   "display_name": "Python 3 (ipykernel)",
   "language": "python",
   "name": "python3"
  },
  "language_info": {
   "codemirror_mode": {
    "name": "ipython",
    "version": 3
   },
   "file_extension": ".py",
   "mimetype": "text/x-python",
   "name": "python",
   "nbconvert_exporter": "python",
   "pygments_lexer": "ipython3",
   "version": "3.9.13"
  }
 },
 "nbformat": 4,
 "nbformat_minor": 5
}
